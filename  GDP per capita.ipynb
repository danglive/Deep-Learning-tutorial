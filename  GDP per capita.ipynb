{
  "nbformat": 4,
  "nbformat_minor": 0,
  "metadata": {
    "colab": {
      "name": "Untitled15.ipynb",
      "provenance": [],
      "include_colab_link": true
    },
    "kernelspec": {
      "name": "python3",
      "display_name": "Python 3"
    }
  },
  "cells": [
    {
      "cell_type": "markdown",
      "metadata": {
        "id": "view-in-github",
        "colab_type": "text"
      },
      "source": [
        "<a href=\"https://colab.research.google.com/github/danglive/Deep-Learning-tutorial/blob/master/%20GDP%20per%20capita.ipynb\" target=\"_parent\"><img src=\"https://colab.research.google.com/assets/colab-badge.svg\" alt=\"Open In Colab\"/></a>"
      ]
    },
    {
      "cell_type": "code",
      "metadata": {
        "id": "0-7Zy41lRnSs",
        "colab_type": "code",
        "colab": {
          "base_uri": "https://localhost:8080/",
          "height": 136
        },
        "outputId": "ab68871e-d7e8-4e21-ee25-99d9ad54f511"
      },
      "source": [
        "#@title Package Setup\n",
        "!pip install -qU plotly daft torchtext\n",
        "!git clone -q https://github.com/uber/pyro.git\n",
        "!cd pyro; git checkout -q dev; pip install -q .\n",
        "!rm -fr start; git clone --single-branch -b demos2018 -q https://github.com/harvard-ml-courses/cs281-demos start; cp -f start/cs281.py cs281.py\n",
        "!wget -q \"https://github.com/harvardnlp/LatentVariableNLP/blob/master/data/yahoo/val.txt?raw=true\"\n",
        "!mv \"val.txt?raw=true\" val.txt"
      ],
      "execution_count": 1,
      "outputs": [
        {
          "output_type": "stream",
          "text": [
            "\u001b[K     |████████████████████████████████| 7.2MB 8.6MB/s \n",
            "\u001b[K     |████████████████████████████████| 61kB 26.4MB/s \n",
            "\u001b[?25h  Building wheel for daft (setup.py) ... \u001b[?25l\u001b[?25hdone\n",
            "\u001b[K     \\ 20kB 231kB/s\n",
            "\u001b[K     |████████████████████████████████| 61kB 7.3MB/s \n",
            "\u001b[?25h  Building wheel for pyro-ppl (setup.py) ... \u001b[?25l\u001b[?25hdone\n",
            "  Building wheel for pyro-api (setup.py) ... \u001b[?25l\u001b[?25hdone\n"
          ],
          "name": "stdout"
        }
      ]
    },
    {
      "cell_type": "code",
      "metadata": {
        "id": "bZ5dndmPR8jL",
        "colab_type": "code",
        "colab": {}
      },
      "source": [
        "import os\n",
        "from functools import partial\n",
        "import numpy as np\n",
        "import pandas as pd\n",
        "import seaborn as sns\n",
        "import torch\n",
        "import torch.nn as nn\n",
        "\n",
        "import matplotlib.pyplot as plt\n",
        "\n",
        "import pyro\n",
        "from pyro.distributions import Normal, Uniform, Delta\n",
        "from pyro.infer import SVI, Trace_ELBO\n",
        "from pyro.optim import Adam\n",
        "from pyro.distributions.util import logsumexp\n",
        "from pyro.infer import EmpiricalMarginal, SVI, Trace_ELBO, TracePredictive\n",
        "from pyro.infer.mcmc import MCMC, NUTS\n",
        "import pyro.optim as optim\n",
        "import pyro.poutine as poutine\n",
        "\n",
        "# for CI testing\n",
        "smoke_test = ('CI' in os.environ)\n",
        "assert pyro.__version__.startswith('0.4.1')\n",
        "pyro.enable_validation(True)\n",
        "pyro.set_rng_seed(1)\n",
        "pyro.enable_validation(True)"
      ],
      "execution_count": 0,
      "outputs": []
    },
    {
      "cell_type": "markdown",
      "metadata": {
        "id": "In8KqSDRSFqR",
        "colab_type": "text"
      },
      "source": [
        "##Dataset"
      ]
    },
    {
      "cell_type": "code",
      "metadata": {
        "id": "DOnxYleRSHLT",
        "colab_type": "code",
        "colab": {}
      },
      "source": [
        "DATA_URL = \"https://d2hg8soec8ck9v.cloudfront.net/datasets/rugged_data.csv\"\n",
        "data = pd.read_csv(DATA_URL, encoding=\"ISO-8859-1\")\n",
        "df = data[[\"cont_africa\", \"rugged\", \"rgdppc_2000\"]]\n",
        "df = df[np.isfinite(df.rgdppc_2000)]\n",
        "df[\"rgdppc_2000\"] = np.log(df[\"rgdppc_2000\"])"
      ],
      "execution_count": 0,
      "outputs": []
    },
    {
      "cell_type": "code",
      "metadata": {
        "id": "8DCRtJSxSWW5",
        "colab_type": "code",
        "colab": {
          "base_uri": "https://localhost:8080/",
          "height": 455
        },
        "outputId": "e4c6964b-f07e-4105-aa45-967fe8ce9022"
      },
      "source": [
        "fig, ax = plt.subplots(nrows=1, ncols=2, figsize=(12, 6), sharey=True)\n",
        "african_nations = data[data[\"cont_africa\"] == 1]\n",
        "non_african_nations = data[data[\"cont_africa\"] == 0]\n",
        "sns.scatterplot(non_african_nations[\"rugged\"],\n",
        "            np.log(non_african_nations[\"rgdppc_2000\"]),\n",
        "            ax=ax[0])\n",
        "ax[0].set(xlabel=\"Terrain Ruggedness Index\",\n",
        "          ylabel=\"log GDP (2000)\",\n",
        "          title=\"Non African Nations\")\n",
        "sns.scatterplot(african_nations[\"rugged\"],\n",
        "            np.log(african_nations[\"rgdppc_2000\"]),\n",
        "            ax=ax[1])\n",
        "ax[1].set(xlabel=\"Terrain Ruggedness Index\",\n",
        "          ylabel=\"log GDP (2000)\",\n",
        "          title=\"African Nations\")"
      ],
      "execution_count": 5,
      "outputs": [
        {
          "output_type": "execute_result",
          "data": {
            "text/plain": [
              "[Text(0, 0.5, 'log GDP (2000)'),\n",
              " Text(0.5, 0, 'Terrain Ruggedness Index'),\n",
              " Text(0.5, 1.0, 'African Nations')]"
            ]
          },
          "metadata": {
            "tags": []
          },
          "execution_count": 5
        },
        {
          "output_type": "display_data",
          "data": {
            "image/png": "[encoded data removed]",
            "text/plain": [
              "<Figure size 864x432 with 2 Axes>"
            ]
          },
          "metadata": {
            "tags": []
          }
        }
      ]
    },
    {
      "cell_type": "markdown",
      "metadata": {
        "id": "rGTnyv6cSe_a",
        "colab_type": "text"
      },
      "source": [
        "Linear Regression\n",
        "\n",
        "We would like to predict log GDP per capita of a nation as a function of two features from the dataset - whether the nation is in Africa, and its Terrain Ruggedness Index. Let’s define our regression model. We’ll use PyTorch’s nn.Module for this. Our input X is a matrix of size N×2 and our output y is a vector of size 2×1. The function nn.Linear(p, 1) defines a linear transformation of the form Xw+b where w is the weight matrix and b is the additive bias. We include an extra self.factor term meant to capture the correlation between ruggedness and whether a country is in Africa.\n",
        "\n",
        "Note that we can easily make this a logistic regression by adding a non-linearity in the forward() method."
      ]
    },
    {
      "cell_type": "code",
      "metadata": {
        "id": "0UXK4H3LSg9O",
        "colab_type": "code",
        "colab": {}
      },
      "source": [
        "class RegressionModel(nn.Module):\n",
        "    def __init__(self, p):\n",
        "        # p = number of features\n",
        "        super(RegressionModel, self).__init__()\n",
        "        self.linear = nn.Linear(p, 1)\n",
        "        self.factor = nn.Parameter(torch.tensor(1.))\n",
        "\n",
        "    def forward(self, x):\n",
        "        return self.linear(x) + (self.factor * x[:, 0] * x[:, 1]).unsqueeze(1)\n",
        "\n",
        "p = 2  # number of features\n",
        "regression_model = RegressionModel(p)"
      ],
      "execution_count": 0,
      "outputs": []
    },
    {
      "cell_type": "markdown",
      "metadata": {
        "id": "CR7D6KxnSmLE",
        "colab_type": "text"
      },
      "source": [
        "##Training\n",
        "\n",
        "We will use the mean squared error (MSE) as our loss and Adam as our optimizer. We would like to optimize the parameters of the regression_model neural net above. We will use a somewhat large learning rate of 0.05 and run for 500 iterations."
      ]
    },
    {
      "cell_type": "code",
      "metadata": {
        "id": "J21zk0JZSli9",
        "colab_type": "code",
        "colab": {
          "base_uri": "https://localhost:8080/",
          "height": 425
        },
        "outputId": "3f1befb8-92fb-47f1-f4bb-76fa8a32524e"
      },
      "source": [
        "loss_fn = torch.nn.MSELoss(reduction='sum')\n",
        "optim = torch.optim.Adam(regression_model.parameters(), lr=0.05)\n",
        "num_iterations = 1000 if not smoke_test else 2\n",
        "data = torch.tensor(df.values, dtype=torch.float)\n",
        "x_data, y_data = data[:, :-1], data[:, -1]\n",
        "\n",
        "def main():\n",
        "    x_data = data[:, :-1]\n",
        "    y_data = data[:, -1]\n",
        "    for j in range(num_iterations):\n",
        "        # run the model forward on the data\n",
        "        y_pred = regression_model(x_data).squeeze(-1)\n",
        "        # calculate the mse loss\n",
        "        loss = loss_fn(y_pred, y_data)\n",
        "        # initialize gradients to zero\n",
        "        optim.zero_grad()\n",
        "        # backpropagate\n",
        "        loss.backward()\n",
        "        # take a gradient step\n",
        "        optim.step()\n",
        "        if (j + 1) % 50 == 0:\n",
        "            print(\"[iteration %04d] loss: %.4f\" % (j + 1, loss.item()))\n",
        "    # Inspect learned parameters\n",
        "    print(\"Learned parameters:\")\n",
        "    for name, param in regression_model.named_parameters():\n",
        "        print(name, param.data.numpy())\n",
        "\n",
        "main()"
      ],
      "execution_count": 7,
      "outputs": [
        {
          "output_type": "stream",
          "text": [
            "[iteration 0050] loss: 3723.7849\n",
            "[iteration 0100] loss: 1777.9850\n",
            "[iteration 0150] loss: 1226.7540\n",
            "[iteration 0200] loss: 927.1512\n",
            "[iteration 0250] loss: 706.6472\n",
            "[iteration 0300] loss: 536.0910\n",
            "[iteration 0350] loss: 408.0939\n",
            "[iteration 0400] loss: 316.1810\n",
            "[iteration 0450] loss: 252.9710\n",
            "[iteration 0500] loss: 211.2545\n",
            "[iteration 0550] loss: 184.7950\n",
            "[iteration 0600] loss: 168.6502\n",
            "[iteration 0650] loss: 159.1673\n",
            "[iteration 0700] loss: 153.8036\n",
            "[iteration 0750] loss: 150.8815\n",
            "[iteration 0800] loss: 149.3482\n",
            "[iteration 0850] loss: 148.5732\n",
            "[iteration 0900] loss: 148.1960\n",
            "[iteration 0950] loss: 148.0193\n",
            "[iteration 1000] loss: 147.9397\n",
            "Learned parameters:\n",
            "factor 0.37248382\n",
            "linear.weight [[-1.90511    -0.18619268]]\n",
            "linear.bias [9.188872]\n"
          ],
          "name": "stdout"
        }
      ]
    },
    {
      "cell_type": "markdown",
      "metadata": {
        "id": "P8W5JhiNSydX",
        "colab_type": "text"
      },
      "source": [
        "##Bayesian Regression"
      ]
    }
  ]
}