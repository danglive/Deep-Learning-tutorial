{
  "nbformat": 4,
  "nbformat_minor": 0,
  "metadata": {
    "colab": {
      "name": "Neural_Machine_Translation_in_TensorFlow_using_TPUs.ipynb",
      "provenance": [],
      "collapsed_sections": [],
      "include_colab_link": true
    },
    "kernelspec": {
      "name": "python3",
      "display_name": "Python 3"
    },
    "accelerator": "TPU"
  },
  "cells": [
    {
      "cell_type": "markdown",
      "metadata": {
        "id": "view-in-github",
        "colab_type": "text"
      },
      "source": [
        "<a href=\"https://colab.research.google.com/github/danglive/Deep-Learning-tutorial/blob/master/Neural_Machine_Translation_in_TensorFlow_using_TPUs.ipynb\" target=\"_parent\"><img src=\"https://colab.research.google.com/assets/colab-badge.svg\" alt=\"Open In Colab\"/></a>"
      ]
    },
    {
      "cell_type": "markdown",
      "metadata": {
        "id": "bx0Fyl_aqiqF",
        "colab_type": "text"
      },
      "source": [
        "# Neural Machine Translation with TensorFlow\n",
        "In this tutorial, we'll be going through Neural Machine Translation (NMT) using a Sequence-to-Sequence model (seq2seq)\n",
        "<br>\n",
        "Let's begin by downloading the dataset which is a textfile comprising of English and their translated German translations separated by a `\\t` (tab)\n",
        "<br>"
      ]
    },
    {
      "cell_type": "code",
      "metadata": {
        "id": "ttu9MFC1PtRh",
        "colab_type": "code",
        "outputId": "3b888141-1766-430f-ec81-576d329e0a7e",
        "colab": {
          "base_uri": "https://localhost:8080/",
          "height": 204
        }
      },
      "source": [
        "!wget http://www.manythings.org/anki/deu-eng.zip"
      ],
      "execution_count": 1,
      "outputs": [
        {
          "output_type": "stream",
          "text": [
            "--2019-12-14 13:27:55--  http://www.manythings.org/anki/deu-eng.zip\n",
            "Resolving www.manythings.org (www.manythings.org)... 104.24.109.196, 104.24.108.196, 2606:4700:30::6818:6dc4, ...\n",
            "Connecting to www.manythings.org (www.manythings.org)|104.24.109.196|:80... connected.\n",
            "HTTP request sent, awaiting response... 200 OK\n",
            "Length: 7612057 (7.3M) [application/zip]\n",
            "Saving to: ‘deu-eng.zip’\n",
            "\n",
            "deu-eng.zip         100%[===================>]   7.26M  19.3MB/s    in 0.4s    \n",
            "\n",
            "2019-12-14 13:27:55 (19.3 MB/s) - ‘deu-eng.zip’ saved [7612057/7612057]\n",
            "\n"
          ],
          "name": "stdout"
        }
      ]
    },
    {
      "cell_type": "code",
      "metadata": {
        "id": "DJkwiq_gQDq-",
        "colab_type": "code",
        "outputId": "50f3cac0-00ad-4d41-e5ec-01af76be3b77",
        "colab": {
          "base_uri": "https://localhost:8080/",
          "height": 85
        }
      },
      "source": [
        "# Unzipping the contents of the file\n",
        "!unzip deu-eng.zip\n",
        "!ls"
      ],
      "execution_count": 2,
      "outputs": [
        {
          "output_type": "stream",
          "text": [
            "Archive:  deu-eng.zip\n",
            "  inflating: deu.txt                 \n",
            "  inflating: _about.txt              \n",
            "_about.txt  deu-eng.zip  deu.txt  sample_data\n"
          ],
          "name": "stdout"
        }
      ]
    },
    {
      "cell_type": "code",
      "metadata": {
        "id": "ve8KH7fuQHDo",
        "colab_type": "code",
        "colab": {}
      },
      "source": [
        "!rm deu-eng.zip\n",
        "!mkdir \"nmt_data\"\n",
        "!mv deu.txt _about.txt \"nmt_data\""
      ],
      "execution_count": 0,
      "outputs": []
    },
    {
      "cell_type": "code",
      "metadata": {
        "id": "EmNJma8QQIKK",
        "colab_type": "code",
        "outputId": "ff4bc491-3591-4fcc-db5b-efe2ff1ae675",
        "colab": {
          "base_uri": "https://localhost:8080/",
          "height": 34
        }
      },
      "source": [
        "!cd nmt_data && ls"
      ],
      "execution_count": 4,
      "outputs": [
        {
          "output_type": "stream",
          "text": [
            "_about.txt  deu.txt\n"
          ],
          "name": "stdout"
        }
      ]
    },
    {
      "cell_type": "code",
      "metadata": {
        "id": "gzy0N907QKP3",
        "colab_type": "code",
        "colab": {}
      },
      "source": [
        "import os\n",
        "import tensorflow as tf\n",
        "from tensorflow.keras.preprocessing.text import Tokenizer\n",
        "from tensorflow.keras.preprocessing.sequence import pad_sequences\n",
        "import numpy as np\n",
        "from numpy import array\n",
        "import pandas as pd\n",
        "import string\n",
        "from sklearn.model_selection import train_test_split\n",
        "import matplotlib.pyplot as plt"
      ],
      "execution_count": 0,
      "outputs": []
    },
    {
      "cell_type": "code",
      "metadata": {
        "id": "sduKTDc-QMPE",
        "colab_type": "code",
        "outputId": "17f8f857-29db-4b20-9bde-7114be30873b",
        "colab": {
          "base_uri": "https://localhost:8080/",
          "height": 187
        }
      },
      "source": [
        "# Examining the dataset\n",
        "!head ./nmt_data/deu.txt"
      ],
      "execution_count": 6,
      "outputs": [
        {
          "output_type": "stream",
          "text": [
            "Hi.\tHallo!\tCC-BY 2.0 (France) Attribution: tatoeba.org #538123 (CM) & #380701 (cburgmer)\n",
            "Hi.\tGrüß Gott!\tCC-BY 2.0 (France) Attribution: tatoeba.org #538123 (CM) & #659813 (Esperantostern)\n",
            "Run!\tLauf!\tCC-BY 2.0 (France) Attribution: tatoeba.org #906328 (papabear) & #941078 (Fingerhut)\n",
            "Wow!\tPotzdonner!\tCC-BY 2.0 (France) Attribution: tatoeba.org #52027 (Zifre) & #2122382 (Pfirsichbaeumchen)\n",
            "Wow!\tDonnerwetter!\tCC-BY 2.0 (France) Attribution: tatoeba.org #52027 (Zifre) & #2122391 (Pfirsichbaeumchen)\n",
            "Fire!\tFeuer!\tCC-BY 2.0 (France) Attribution: tatoeba.org #1829639 (Spamster) & #1958697 (Tamy)\n",
            "Help!\tHilfe!\tCC-BY 2.0 (France) Attribution: tatoeba.org #435084 (lukaszpp) & #575889 (MUIRIEL)\n",
            "Help!\tZu Hülf!\tCC-BY 2.0 (France) Attribution: tatoeba.org #435084 (lukaszpp) & #2122375 (Pfirsichbaeumchen)\n",
            "Stop!\tStopp!\tCC-BY 2.0 (France) Attribution: tatoeba.org #448320 (FeuDRenais) & #626467 (jakov)\n",
            "Wait!\tWarte!\tCC-BY 2.0 (France) Attribution: tatoeba.org #1744314 (belgavox) & #2122378 (Pfirsichbaeumchen)\n"
          ],
          "name": "stdout"
        }
      ]
    },
    {
      "cell_type": "code",
      "metadata": {
        "id": "ux0RNehRQOJs",
        "colab_type": "code",
        "outputId": "bb022608-00dc-4608-a618-d0c6399f9974",
        "colab": {
          "base_uri": "https://localhost:8080/",
          "height": 204
        }
      },
      "source": [
        "# Extracting and cleaning the data\n",
        "deu_eng = open('./nmt_data/deu.txt', mode='rt', encoding='utf-8').read().strip().split('\\n')\n",
        "deu_eng = [deu_eng[i].strip().split('\\t') for i in range(len(deu_eng))]\n",
        "deu_eng = array(deu_eng)\n",
        "\n",
        "# We'll only be working with the first 50000 instances in the dataset for this tutorial\n",
        "deu_eng = deu_eng[:50000, :]\n",
        "print (len(deu_eng))\n",
        "print (deu_eng[:5, :])"
      ],
      "execution_count": 7,
      "outputs": [
        {
          "output_type": "stream",
          "text": [
            "50000\n",
            "[['Hi.' 'Hallo!'\n",
            "  'CC-BY 2.0 (France) Attribution: tatoeba.org #538123 (CM) & #380701 (cburgmer)']\n",
            " ['Hi.' 'Grüß Gott!'\n",
            "  'CC-BY 2.0 (France) Attribution: tatoeba.org #538123 (CM) & #659813 (Esperantostern)']\n",
            " ['Run!' 'Lauf!'\n",
            "  'CC-BY 2.0 (France) Attribution: tatoeba.org #906328 (papabear) & #941078 (Fingerhut)']\n",
            " ['Wow!' 'Potzdonner!'\n",
            "  'CC-BY 2.0 (France) Attribution: tatoeba.org #52027 (Zifre) & #2122382 (Pfirsichbaeumchen)']\n",
            " ['Wow!' 'Donnerwetter!'\n",
            "  'CC-BY 2.0 (France) Attribution: tatoeba.org #52027 (Zifre) & #2122391 (Pfirsichbaeumchen)']]\n"
          ],
          "name": "stdout"
        }
      ]
    },
    {
      "cell_type": "code",
      "metadata": {
        "id": "1wz3ZtSxQPRB",
        "colab_type": "code",
        "outputId": "9aa35eff-3216-453a-8aa0-3466849174bd",
        "colab": {
          "base_uri": "https://localhost:8080/",
          "height": 187
        }
      },
      "source": [
        "# Removing the punctuation from the phrases\n",
        "deu_eng[:, 0] = [s.translate((str.maketrans('', '', string.punctuation))) for s in deu_eng[:, 0]]\n",
        "deu_eng[:, 1] = [s.translate((str.maketrans('', '', string.punctuation))) for s in deu_eng[:, 1]]\n",
        "\n",
        "# Converting phrases to lowercase\n",
        "for i in range(len(deu_eng)):\n",
        "    deu_eng[i, 0] = deu_eng[i, 0].lower()\n",
        "    deu_eng[i, 1] = deu_eng[i, 1].lower()\n",
        "    \n",
        "print (deu_eng[:5])"
      ],
      "execution_count": 8,
      "outputs": [
        {
          "output_type": "stream",
          "text": [
            "[['hi' 'hallo'\n",
            "  'CC-BY 2.0 (France) Attribution: tatoeba.org #538123 (CM) & #380701 (cburgmer)']\n",
            " ['hi' 'grüß gott'\n",
            "  'CC-BY 2.0 (France) Attribution: tatoeba.org #538123 (CM) & #659813 (Esperantostern)']\n",
            " ['run' 'lauf'\n",
            "  'CC-BY 2.0 (France) Attribution: tatoeba.org #906328 (papabear) & #941078 (Fingerhut)']\n",
            " ['wow' 'potzdonner'\n",
            "  'CC-BY 2.0 (France) Attribution: tatoeba.org #52027 (Zifre) & #2122382 (Pfirsichbaeumchen)']\n",
            " ['wow' 'donnerwetter'\n",
            "  'CC-BY 2.0 (France) Attribution: tatoeba.org #52027 (Zifre) & #2122391 (Pfirsichbaeumchen)']]\n"
          ],
          "name": "stdout"
        }
      ]
    },
    {
      "cell_type": "code",
      "metadata": {
        "id": "FQRzyyHnQRkO",
        "colab_type": "code",
        "outputId": "6947d307-d674-44d1-fa74-8e205faf4996",
        "colab": {
          "base_uri": "https://localhost:8080/",
          "height": 136
        }
      },
      "source": [
        "#Tokenizing the phrases\n",
        "def tokenize(phrases):\n",
        "    \"\"\"\n",
        "    Tokenization is a process where you take a phrase and encode it \n",
        "    using one-hot encoding or based on its index in a set of vocabulary (used here)\n",
        "    \"\"\"\n",
        "    tokenizer = Tokenizer()\n",
        "    tokenizer.fit_on_texts(phrases)\n",
        "    \n",
        "    return tokenizer\n",
        "\n",
        "eng_tokenizer = tokenize(deu_eng[:, 0])\n",
        "eng_vocab_size = len(eng_tokenizer.word_index) + 1\n",
        "eng_sequence_length = 8 # We are creating a sequence of length 8 and will be feeding it into the model\n",
        "\n",
        "ger_tokenizer = tokenize(deu_eng[:, 1])\n",
        "ger_vocab_size = len(ger_tokenizer.word_index) + 1\n",
        "ger_sequence_length = 8\n",
        "print ('English vocabular size: {}'.format(eng_vocab_size))\n",
        "print ('German vocabular size: {}'.format(ger_vocab_size))\n",
        "\n",
        "for i in list(eng_tokenizer.word_index.items())[:5]:\n",
        "    print (i)"
      ],
      "execution_count": 9,
      "outputs": [
        {
          "output_type": "stream",
          "text": [
            "English vocabular size: 6361\n",
            "German vocabular size: 10597\n",
            "('tom', 1)\n",
            "('i', 2)\n",
            "('you', 3)\n",
            "('is', 4)\n",
            "('a', 5)\n"
          ],
          "name": "stdout"
        }
      ]
    },
    {
      "cell_type": "code",
      "metadata": {
        "id": "ITTNrJO0QTAY",
        "colab_type": "code",
        "colab": {}
      },
      "source": [
        "# Converting phrases into sequences\n",
        "def encode_sequences(tokenizer, sequence_length, lines):\n",
        "    sequence = tokenizer.texts_to_sequences(lines)\n",
        "    # Padding the sequence with zeros\n",
        "    sequence = pad_sequences(sequence, sequence_length, padding=\"post\") # 0s after the actual sequence\n",
        "    return sequence"
      ],
      "execution_count": 0,
      "outputs": []
    },
    {
      "cell_type": "code",
      "metadata": {
        "id": "coEAGUh-QUS8",
        "colab_type": "code",
        "outputId": "a423d2e7-841d-4708-d584-8b065c1a84c4",
        "colab": {
          "base_uri": "https://localhost:8080/",
          "height": 51
        }
      },
      "source": [
        "# Splitting the dataset into 80% training and 20% testing\n",
        "train, test = train_test_split(deu_eng, test_size=.2, random_state=12)\n",
        "\n",
        "x_train = encode_sequences(ger_tokenizer, ger_sequence_length, train[:, 0])\n",
        "y_train = encode_sequences(eng_tokenizer, eng_sequence_length, train[:, 1])\n",
        "\n",
        "x_test = encode_sequences(ger_tokenizer, ger_sequence_length, test[:, 0])\n",
        "y_test = encode_sequences(eng_tokenizer, eng_sequence_length, test[:, 1])\n",
        "\n",
        "print (x_train.shape, y_train.shape)\n",
        "print (x_test.shape, x_test.shape)"
      ],
      "execution_count": 11,
      "outputs": [
        {
          "output_type": "stream",
          "text": [
            "(40000, 8) (40000, 8)\n",
            "(10000, 8) (10000, 8)\n"
          ],
          "name": "stdout"
        }
      ]
    },
    {
      "cell_type": "code",
      "metadata": {
        "id": "YbiuKVZUQg9U",
        "colab_type": "code",
        "outputId": "02fc39f3-30ca-40bd-8d22-dcff2530452f",
        "colab": {
          "base_uri": "https://localhost:8080/",
          "height": 357
        }
      },
      "source": [
        "# Detect hardware\n",
        "try:\n",
        "  tpu = tf.distribute.cluster_resolver.TPUClusterResolver() # TPU detection\n",
        "except ValueError:\n",
        "  tpu = None\n",
        "  gpus = tf.config.experimental.list_logical_devices(\"GPU\")\n",
        "    \n",
        "# Select appropriate distribution strategy\n",
        "if tpu:\n",
        "  tf.tpu.experimental.initialize_tpu_system(tpu)\n",
        "  strategy = tf.distribute.experimental.TPUStrategy(tpu, steps_per_run=128) # Going back and forth between TPU and host is expensive. Better to run 128 batches on the TPU before reporting back.\n",
        "  print('Running on TPU ', tpu.cluster_spec().as_dict()['worker'])  \n",
        "else:\n",
        "  strategy = tf.distribute.get_strategy() # default strategy that works on CPU and single GPU\n",
        "  print('Running on CPU')\n",
        "print(\"Number of accelerators: \", strategy.num_replicas_in_sync)"
      ],
      "execution_count": 12,
      "outputs": [
        {
          "output_type": "stream",
          "text": [
            "INFO:tensorflow:Initializing the TPU system: 10.71.105.234:8470\n",
            "INFO:tensorflow:Finished initializing TPU system.\n",
            "INFO:tensorflow:Querying Tensorflow master (grpc://10.71.105.234:8470) for TPU system metadata.\n",
            "INFO:tensorflow:Found TPU system:\n",
            "INFO:tensorflow:*** Num TPU Cores: 8\n",
            "INFO:tensorflow:*** Num TPU Workers: 1\n",
            "INFO:tensorflow:*** Num TPU Cores Per Worker: 8\n",
            "INFO:tensorflow:*** Available Device: _DeviceAttributes(/job:worker/replica:0/task:0/device:CPU:0, CPU, -1, 1152963327089717912)\n",
            "INFO:tensorflow:*** Available Device: _DeviceAttributes(/job:worker/replica:0/task:0/device:TPU:0, TPU, 17179869184, 17238051080905753074)\n",
            "INFO:tensorflow:*** Available Device: _DeviceAttributes(/job:worker/replica:0/task:0/device:TPU:1, TPU, 17179869184, 2911845365949702356)\n",
            "INFO:tensorflow:*** Available Device: _DeviceAttributes(/job:worker/replica:0/task:0/device:TPU:2, TPU, 17179869184, 14197512628816466726)\n",
            "INFO:tensorflow:*** Available Device: _DeviceAttributes(/job:worker/replica:0/task:0/device:TPU:3, TPU, 17179869184, 4713404622725925961)\n",
            "INFO:tensorflow:*** Available Device: _DeviceAttributes(/job:worker/replica:0/task:0/device:TPU:4, TPU, 17179869184, 13258320709441312468)\n",
            "INFO:tensorflow:*** Available Device: _DeviceAttributes(/job:worker/replica:0/task:0/device:TPU:5, TPU, 17179869184, 6067093828135557478)\n",
            "INFO:tensorflow:*** Available Device: _DeviceAttributes(/job:worker/replica:0/task:0/device:TPU:6, TPU, 17179869184, 12407994418604847875)\n",
            "INFO:tensorflow:*** Available Device: _DeviceAttributes(/job:worker/replica:0/task:0/device:TPU:7, TPU, 17179869184, 14815302521545158661)\n",
            "INFO:tensorflow:*** Available Device: _DeviceAttributes(/job:worker/replica:0/task:0/device:TPU_SYSTEM:0, TPU_SYSTEM, 8589934592, 4621770450841908570)\n",
            "INFO:tensorflow:*** Available Device: _DeviceAttributes(/job:worker/replica:0/task:0/device:XLA_CPU:0, XLA_CPU, 17179869184, 16798926822994927066)\n",
            "Running on TPU  ['10.71.105.234:8470']\n",
            "Number of accelerators:  8\n"
          ],
          "name": "stdout"
        }
      ]
    },
    {
      "cell_type": "code",
      "metadata": {
        "id": "Sv2BudRcRjvL",
        "colab_type": "code",
        "outputId": "c18ba7fb-b666-4218-ad80-d6413ca687b1",
        "colab": {
          "base_uri": "https://localhost:8080/",
          "height": 1000
        }
      },
      "source": [
        "with strategy.scope():\n",
        "    model = tf.keras.models.Sequential()\n",
        "    model.add(tf.keras.layers.Embedding(ger_vocab_size, 512, input_length=ger_sequence_length, mask_zero=True))\n",
        "    model.add(tf.keras.layers.LSTM(512))\n",
        "    model.add(tf.keras.layers.RepeatVector(eng_sequence_length))\n",
        "    model.add(tf.keras.layers.LSTM(512, return_sequences=True))\n",
        "    model.add(tf.keras.layers.Dense(eng_vocab_size, activation='softmax'))\n",
        "    \n",
        "    model.compile(\n",
        "        optimizer=tf.train.RMSPropOptimizer(learning_rate=1e-2),\n",
        "        loss=tf.keras.losses.sparse_categorical_crossentropy,\n",
        "        metrics=['sparse_categorical_accuracy']\n",
        "    )\n",
        "    \n",
        "    model.summary()\n",
        "    \n",
        "history = model.fit(x_train.astype(np.float32), \n",
        "                    y_train.astype(np.float32),\n",
        "                    epochs=20,\n",
        "                    steps_per_epoch=50)\n",
        "\n",
        "model.save_weights('./nmt_model.h5', overwrite=True)"
      ],
      "execution_count": 13,
      "outputs": [
        {
          "output_type": "stream",
          "text": [
            "WARNING:tensorflow:From /usr/local/lib/python3.6/dist-packages/tensorflow_core/python/keras/initializers.py:119: calling RandomUniform.__init__ (from tensorflow.python.ops.init_ops) with dtype is deprecated and will be removed in a future version.\n",
            "Instructions for updating:\n",
            "Call initializer instance with the dtype argument instead of passing it to the constructor\n",
            "WARNING:tensorflow:From /usr/local/lib/python3.6/dist-packages/tensorflow_core/python/ops/resource_variable_ops.py:1630: calling BaseResourceVariable.__init__ (from tensorflow.python.ops.resource_variable_ops) with constraint is deprecated and will be removed in a future version.\n",
            "Instructions for updating:\n",
            "If using Keras pass *_constraint arguments to layers.\n",
            "WARNING:tensorflow:From /usr/local/lib/python3.6/dist-packages/tensorflow_core/python/keras/backend.py:3994: where (from tensorflow.python.ops.array_ops) is deprecated and will be removed in a future version.\n",
            "Instructions for updating:\n",
            "Use tf.where in 2.0, which has the same broadcast rule as np.where\n",
            "Model: \"sequential\"\n",
            "_________________________________________________________________\n",
            "Layer (type)                 Output Shape              Param #   \n",
            "=================================================================\n",
            "embedding (Embedding)        (None, 8, 512)            5425664   \n",
            "_________________________________________________________________\n",
            "lstm (LSTM)                  (None, 512)               2099200   \n",
            "_________________________________________________________________\n",
            "repeat_vector (RepeatVector) (None, 8, 512)            0         \n",
            "_________________________________________________________________\n",
            "lstm_1 (LSTM)                (None, 8, 512)            2099200   \n",
            "_________________________________________________________________\n",
            "dense (Dense)                (None, 8, 6361)           3263193   \n",
            "=================================================================\n",
            "Total params: 12,887,257\n",
            "Trainable params: 12,887,257\n",
            "Non-trainable params: 0\n",
            "_________________________________________________________________\n",
            "WARNING:tensorflow:From /usr/local/lib/python3.6/dist-packages/tensorflow_core/python/training/rmsprop.py:119: calling Ones.__init__ (from tensorflow.python.ops.init_ops) with dtype is deprecated and will be removed in a future version.\n",
            "Instructions for updating:\n",
            "Call initializer instance with the dtype argument instead of passing it to the constructor\n",
            "Epoch 1/20\n",
            "50/50 [==============================] - 6s 127ms/step - loss: 3.9992 - sparse_categorical_accuracy: 0.9136\n",
            "Epoch 2/20\n",
            "50/50 [==============================] - 2s 30ms/step - loss: 0.3996 - sparse_categorical_accuracy: 0.9322\n",
            "Epoch 3/20\n",
            "50/50 [==============================] - 2s 31ms/step - loss: 0.1831 - sparse_categorical_accuracy: 0.9322\n",
            "Epoch 4/20\n",
            "50/50 [==============================] - 2s 32ms/step - loss: 0.1307 - sparse_categorical_accuracy: 0.9500\n",
            "Epoch 5/20\n",
            "50/50 [==============================] - 2s 33ms/step - loss: 0.1215 - sparse_categorical_accuracy: 0.9588\n",
            "Epoch 6/20\n",
            "50/50 [==============================] - 2s 35ms/step - loss: 0.1077 - sparse_categorical_accuracy: 0.9618\n",
            "Epoch 7/20\n",
            "50/50 [==============================] - 2s 38ms/step - loss: 0.0941 - sparse_categorical_accuracy: 0.9625\n",
            "Epoch 8/20\n",
            "50/50 [==============================] - 2s 39ms/step - loss: 0.0985 - sparse_categorical_accuracy: 0.9628\n",
            "Epoch 9/20\n",
            "50/50 [==============================] - 2s 39ms/step - loss: 0.0902 - sparse_categorical_accuracy: 0.9635\n",
            "Epoch 10/20\n",
            "50/50 [==============================] - 2s 39ms/step - loss: 0.1041 - sparse_categorical_accuracy: 0.9635\n",
            "Epoch 11/20\n",
            "50/50 [==============================] - 2s 40ms/step - loss: 0.0877 - sparse_categorical_accuracy: 0.9640\n",
            "Epoch 12/20\n",
            "50/50 [==============================] - 2s 41ms/step - loss: 0.0883 - sparse_categorical_accuracy: 0.9643\n",
            "Epoch 13/20\n",
            "50/50 [==============================] - 2s 43ms/step - loss: 0.0849 - sparse_categorical_accuracy: 0.9645\n",
            "Epoch 14/20\n",
            "50/50 [==============================] - 2s 44ms/step - loss: 0.0916 - sparse_categorical_accuracy: 0.9648\n",
            "Epoch 15/20\n",
            "50/50 [==============================] - 2s 44ms/step - loss: 0.0878 - sparse_categorical_accuracy: 0.9649\n",
            "Epoch 16/20\n",
            "50/50 [==============================] - 2s 45ms/step - loss: 0.0897 - sparse_categorical_accuracy: 0.9651\n",
            "Epoch 17/20\n",
            "50/50 [==============================] - 2s 50ms/step - loss: 0.0882 - sparse_categorical_accuracy: 0.9654\n",
            "Epoch 18/20\n",
            "50/50 [==============================] - 2s 50ms/step - loss: 0.0877 - sparse_categorical_accuracy: 0.9655\n",
            "Epoch 19/20\n",
            "50/50 [==============================] - 2s 49ms/step - loss: 0.0817 - sparse_categorical_accuracy: 0.9656\n",
            "Epoch 20/20\n",
            "50/50 [==============================] - 2s 49ms/step - loss: 0.0849 - sparse_categorical_accuracy: 0.9657\n"
          ],
          "name": "stdout"
        }
      ]
    },
    {
      "cell_type": "code",
      "metadata": {
        "id": "1DuXivzmM3Dz",
        "colab_type": "code",
        "outputId": "4fa022be-21de-4ccd-8649-777fe9eccd45",
        "colab": {
          "base_uri": "https://localhost:8080/",
          "height": 1000
        }
      },
      "source": [
        "from pprint import pprint\n",
        "pprint(history.__dict__)"
      ],
      "execution_count": 14,
      "outputs": [
        {
          "output_type": "stream",
          "text": [
            "{'_chief_worker_only': None,\n",
            " 'epoch': [0,\n",
            "           1,\n",
            "           2,\n",
            "           3,\n",
            "           4,\n",
            "           5,\n",
            "           6,\n",
            "           7,\n",
            "           8,\n",
            "           9,\n",
            "           10,\n",
            "           11,\n",
            "           12,\n",
            "           13,\n",
            "           14,\n",
            "           15,\n",
            "           16,\n",
            "           17,\n",
            "           18,\n",
            "           19],\n",
            " 'history': {'loss': [0.1568306541442871,\n",
            "                      0.01566988468170166,\n",
            "                      0.007179275751113891,\n",
            "                      0.005124831199645996,\n",
            "                      0.004764662981033325,\n",
            "                      0.004221628904342651,\n",
            "                      0.0036894094944000242,\n",
            "                      0.003864203095436096,\n",
            "                      0.003539203703403473,\n",
            "                      0.00408209353685379,\n",
            "                      0.0034389901161193848,\n",
            "                      0.0034644559025764467,\n",
            "                      0.0033277583122253416,\n",
            "                      0.003593774735927582,\n",
            "                      0.003443630337715149,\n",
            "                      0.0035192084312438963,\n",
            "                      0.0034599238634109497,\n",
            "                      0.0034381744265556337,\n",
            "                      0.0032053238153457644,\n",
            "                      0.0033282217383384704],\n",
            "             'sparse_categorical_accuracy': [0.9135594,\n",
            "                                             0.9322062,\n",
            "                                             0.9322062,\n",
            "                                             0.9500344,\n",
            "                                             0.9588406,\n",
            "                                             0.96182495,\n",
            "                                             0.9625,\n",
            "                                             0.96283746,\n",
            "                                             0.9635281,\n",
            "                                             0.9635281,\n",
            "                                             0.9639625,\n",
            "                                             0.9643312,\n",
            "                                             0.964475,\n",
            "                                             0.9647812,\n",
            "                                             0.9648687,\n",
            "                                             0.96505934,\n",
            "                                             0.96535933,\n",
            "                                             0.96547186,\n",
            "                                             0.9656406,\n",
            "                                             0.9657469]},\n",
            " 'model': <tensorflow.python.keras.engine.sequential.Sequential object at 0x7f15cb6bc400>,\n",
            " 'params': {'batch_size': None,\n",
            "            'do_validation': False,\n",
            "            'epochs': 20,\n",
            "            'metrics': ['loss', 'sparse_categorical_accuracy'],\n",
            "            'samples': None,\n",
            "            'steps': 50,\n",
            "            'verbose': 1},\n",
            " 'validation_data': None}\n"
          ],
          "name": "stdout"
        }
      ]
    },
    {
      "cell_type": "code",
      "metadata": {
        "id": "EYnC69lDYm7p",
        "colab_type": "code",
        "outputId": "2ada08d0-acbb-4162-cd9b-703a54b26ea5",
        "colab": {
          "base_uri": "https://localhost:8080/",
          "height": 541
        }
      },
      "source": [
        "plt.plot(history.history['loss'])\n",
        "plt.xlabel('Epochs')\n",
        "plt.ylabel('Sparse Categorical Crossentropy Loss')\n",
        "plt.show()\n",
        "\n",
        "plt.plot(history.history['sparse_categorical_accuracy'])\n",
        "plt.xlabel('Epochs')\n",
        "plt.ylabel('Accuracy')\n",
        "plt.show()"
      ],
      "execution_count": 15,
      "outputs": [
        {
          "output_type": "display_data",
          "data": {
            "image/png": "[encoded data removed]",
            "text/plain": [
              "<Figure size 432x288 with 1 Axes>"
            ]
          },
          "metadata": {
            "tags": []
          }
        },
        {
          "output_type": "display_data",
          "data": {
            "image/png": "[encoded data removed]",
            "text/plain": [
              "<Figure size 432x288 with 1 Axes>"
            ]
          },
          "metadata": {
            "tags": []
          }
        }
      ]
    }
  ]
}